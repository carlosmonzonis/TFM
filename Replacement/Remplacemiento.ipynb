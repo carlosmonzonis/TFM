{
 "cells": [
  {
   "cell_type": "code",
   "execution_count": 1,
   "metadata": {},
   "outputs": [
    {
     "name": "stderr",
     "output_type": "stream",
     "text": [
      "Unimplemented OBJ format statement 'Tf' on line '\tTf 1.0000 1.0000 1.0000'\n",
      "Unimplemented OBJ format statement 'g' on line 'g Lexus_HS'\n",
      "Unimplemented OBJ format statement 's' on line 's 1'\n",
      "Unimplemented OBJ format statement 's' on line 's off'\n",
      "Unimplemented OBJ format statement 's' on line 's 1'\n",
      "Unimplemented OBJ format statement 's' on line 's 2'\n",
      "Unimplemented OBJ format statement 's' on line 's 4'\n",
      "Unimplemented OBJ format statement 's' on line 's 1'\n",
      "Unimplemented OBJ format statement 's' on line 's 2'\n",
      "Unimplemented OBJ format statement 's' on line 's 8'\n",
      "Unimplemented OBJ format statement 's' on line 's 1'\n",
      "Unimplemented OBJ format statement 's' on line 's 8'\n",
      "Unimplemented OBJ format statement 's' on line 's 2'\n",
      "Unimplemented OBJ format statement 's' on line 's 8'\n",
      "Unimplemented OBJ format statement 's' on line 's 2'\n",
      "Unimplemented OBJ format statement 's' on line 's 4'\n",
      "Unimplemented OBJ format statement 's' on line 's 1'\n",
      "Unimplemented OBJ format statement 's' on line 's 2'\n",
      "Unimplemented OBJ format statement 's' on line 's 1'\n",
      "Unimplemented OBJ format statement 's' on line 's 8'\n",
      "Unimplemented OBJ format statement 's' on line 's 1'\n",
      "Unimplemented OBJ format statement 's' on line 's 2'\n",
      "Unimplemented OBJ format statement 's' on line 's 4'\n",
      "Unimplemented OBJ format statement 's' on line 's 1'\n",
      "Unimplemented OBJ format statement 's' on line 's 2'\n",
      "Unimplemented OBJ format statement 's' on line 's 8'\n",
      "Unimplemented OBJ format statement 's' on line 's 1'\n",
      "Unimplemented OBJ format statement 's' on line 's 8'\n",
      "Unimplemented OBJ format statement 's' on line 's 2'\n",
      "Unimplemented OBJ format statement 's' on line 's 8'\n",
      "Unimplemented OBJ format statement 's' on line 's 2'\n",
      "Unimplemented OBJ format statement 's' on line 's 4'\n",
      "Unimplemented OBJ format statement 's' on line 's 1'\n",
      "Unimplemented OBJ format statement 's' on line 's 2'\n",
      "Unimplemented OBJ format statement 's' on line 's 1'\n",
      "Unimplemented OBJ format statement 's' on line 's 8'\n",
      "Unimplemented OBJ format statement 's' on line 's 1'\n"
     ]
    },
    {
     "name": "stdout",
     "output_type": "stream",
     "text": [
      "pygame 1.9.6\n",
      "Hello from the pygame community. https://www.pygame.org/contribute.html\n"
     ]
    },
    {
     "name": "stderr",
     "output_type": "stream",
     "text": [
      "Unimplemented OBJ format statement 's' on line 's 8'\n",
      "Unimplemented OBJ format statement 's' on line 's 1'\n",
      "Unimplemented OBJ format statement 's' on line 's 8'\n",
      "Unimplemented OBJ format statement 's' on line 's 1'\n",
      "Unimplemented OBJ format statement 's' on line 's 8'\n",
      "Unimplemented OBJ format statement 's' on line 's 1'\n",
      "Unimplemented OBJ format statement 's' on line 's off'\n",
      "Unimplemented OBJ format statement 's' on line 's 1'\n"
     ]
    },
    {
     "ename": "GLError",
     "evalue": "GLError(\n\terr = 1282,\n\tdescription = b'operaci\\xf3n no v\\xe1lida',\n\tbaseOperation = glRotatef,\n\tcArguments = (1, 5, 1, 1)\n)",
     "output_type": "error",
     "traceback": [
      "\u001b[1;31m---------------------------------------------------------------------------\u001b[0m",
      "\u001b[1;31mGLError\u001b[0m                                   Traceback (most recent call last)",
      "\u001b[1;32m<ipython-input-1-d137ffe05b11>\u001b[0m in \u001b[0;36m<module>\u001b[1;34m\u001b[0m\n\u001b[0;32m     67\u001b[0m             \u001b[0mpygame\u001b[0m\u001b[1;33m.\u001b[0m\u001b[0mtime\u001b[0m\u001b[1;33m.\u001b[0m\u001b[0mwait\u001b[0m\u001b[1;33m(\u001b[0m\u001b[1;36m10\u001b[0m\u001b[1;33m)\u001b[0m\u001b[1;33m\u001b[0m\u001b[1;33m\u001b[0m\u001b[0m\n\u001b[0;32m     68\u001b[0m \u001b[1;33m\u001b[0m\u001b[0m\n\u001b[1;32m---> 69\u001b[1;33m \u001b[0mmain\u001b[0m\u001b[1;33m(\u001b[0m\u001b[1;33m)\u001b[0m\u001b[1;33m\u001b[0m\u001b[1;33m\u001b[0m\u001b[0m\n\u001b[0m",
      "\u001b[1;32m<ipython-input-1-d137ffe05b11>\u001b[0m in \u001b[0;36mmain\u001b[1;34m()\u001b[0m\n\u001b[0;32m     57\u001b[0m                         \u001b[0mglTranslatef\u001b[0m\u001b[1;33m(\u001b[0m\u001b[1;36m0\u001b[0m\u001b[1;33m,\u001b[0m\u001b[1;33m-\u001b[0m\u001b[1;36m1\u001b[0m\u001b[1;33m,\u001b[0m\u001b[1;36m0\u001b[0m\u001b[1;33m)\u001b[0m\u001b[1;33m\u001b[0m\u001b[1;33m\u001b[0m\u001b[0m\n\u001b[0;32m     58\u001b[0m \u001b[1;33m\u001b[0m\u001b[0m\n\u001b[1;32m---> 59\u001b[1;33m             \u001b[0mglRotatef\u001b[0m\u001b[1;33m(\u001b[0m\u001b[1;36m1\u001b[0m\u001b[1;33m,\u001b[0m \u001b[1;36m5\u001b[0m\u001b[1;33m,\u001b[0m \u001b[1;36m1\u001b[0m\u001b[1;33m,\u001b[0m \u001b[1;36m1\u001b[0m\u001b[1;33m)\u001b[0m\u001b[1;33m\u001b[0m\u001b[1;33m\u001b[0m\u001b[0m\n\u001b[0m\u001b[0;32m     60\u001b[0m             \u001b[0mglClear\u001b[0m\u001b[1;33m(\u001b[0m\u001b[0mGL_COLOR_BUFFER_BIT\u001b[0m\u001b[1;33m|\u001b[0m\u001b[0mGL_DEPTH_BUFFER_BIT\u001b[0m\u001b[1;33m)\u001b[0m\u001b[1;33m\u001b[0m\u001b[1;33m\u001b[0m\u001b[0m\n\u001b[0;32m     61\u001b[0m \u001b[1;33m\u001b[0m\u001b[0m\n",
      "\u001b[1;32msrc/errorchecker.pyx\u001b[0m in \u001b[0;36mOpenGL_accelerate.errorchecker._ErrorChecker.glCheckError\u001b[1;34m()\u001b[0m\n",
      "\u001b[1;31mGLError\u001b[0m: GLError(\n\terr = 1282,\n\tdescription = b'operaci\\xf3n no v\\xe1lida',\n\tbaseOperation = glRotatef,\n\tcArguments = (1, 5, 1, 1)\n)"
     ]
    }
   ],
   "source": [
    "import pygame\n",
    "import OpenGL\n",
    "from pygame.locals import *\n",
    "from OpenGL.GL import *\n",
    "from OpenGL.GLU import *\n",
    "import pywavefront\n",
    "\n",
    "scene = pywavefront.Wavefront('Lexus/lexus_hs.obj', collect_faces=True)\n",
    "\n",
    "scene_box = (scene.vertices[0], scene.vertices[0])\n",
    "for vertex in scene.vertices:\n",
    "    min_v = [min(scene_box[0][i], vertex[i]) for i in range(3)]\n",
    "    max_v = [max(scene_box[1][i], vertex[i]) for i in range(3)]\n",
    "    scene_box = (min_v, max_v)\n",
    "\n",
    "scene_size     = [scene_box[1][i]-scene_box[0][i] for i in range(3)]\n",
    "max_scene_size = max(scene_size)\n",
    "scaled_size    = 5\n",
    "scene_scale    = [scaled_size/max_scene_size for i in range(3)]\n",
    "scene_trans    = [-(scene_box[1][i]+scene_box[0][i])/2 for i in range(3)]\n",
    "\n",
    "def Model():\n",
    "    glPushMatrix()\n",
    "    glScalef(*scene_scale)\n",
    "    glTranslatef(*scene_trans)\n",
    "\n",
    "    for mesh in scene.mesh_list:\n",
    "        glBegin(GL_TRIANGLES)\n",
    "        for face in mesh.faces:\n",
    "            for vertex_i in face:\n",
    "                glVertex3f(*scene.vertices[vertex_i])\n",
    "        glEnd()\n",
    "\n",
    "    glPopMatrix()\n",
    "\n",
    "def main():\n",
    "        pygame.init()\n",
    "        display = (800, 600)\n",
    "        pygame.display.set_mode(display, DOUBLEBUF | OPENGL)\n",
    "        gluPerspective(45, (display[0] / display[1]), 1, 500.0)\n",
    "        glTranslatef(0.0, 0.0, -10)\n",
    "\n",
    "        while True:\n",
    "            for event in pygame.event.get():\n",
    "                if event.type == pygame.QUIT:\n",
    "                    pygame.quit()\n",
    "                    quit()\n",
    "\n",
    "                if event.type == pygame.KEYDOWN:\n",
    "                    if event.key == pygame.K_LEFT:\n",
    "                        glTranslatef(-0.5,0,0)\n",
    "                    if event.key == pygame.K_RIGHT:\n",
    "                        glTranslatef(0.5,0,0)\n",
    "                    if event.key == pygame.K_UP:\n",
    "                        glTranslatef(0,1,0)\n",
    "                    if event.key == pygame.K_DOWN:\n",
    "                        glTranslatef(0,-1,0)\n",
    "\n",
    "            glRotatef(1, 5, 1, 1)\n",
    "            glClear(GL_COLOR_BUFFER_BIT|GL_DEPTH_BUFFER_BIT)\n",
    "\n",
    "            glPolygonMode(GL_FRONT_AND_BACK, GL_LINE)\n",
    "            Model()\n",
    "            glPolygonMode(GL_FRONT_AND_BACK, GL_FILL)\n",
    "\n",
    "            pygame.display.flip()\n",
    "            pygame.time.wait(10)\n",
    "\n",
    "main()"
   ]
  },
  {
   "cell_type": "code",
   "execution_count": null,
   "metadata": {},
   "outputs": [],
   "source": []
  }
 ],
 "metadata": {
  "kernelspec": {
   "display_name": "Python 3",
   "language": "python",
   "name": "python3"
  },
  "language_info": {
   "codemirror_mode": {
    "name": "ipython",
    "version": 3
   },
   "file_extension": ".py",
   "mimetype": "text/x-python",
   "name": "python",
   "nbconvert_exporter": "python",
   "pygments_lexer": "ipython3",
   "version": "3.7.7"
  }
 },
 "nbformat": 4,
 "nbformat_minor": 4
}
